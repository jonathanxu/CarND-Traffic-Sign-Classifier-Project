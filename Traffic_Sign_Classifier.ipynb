{
 "cells": [
  {
   "cell_type": "markdown",
   "metadata": {},
   "source": [
    "# Self-Driving Car Engineer Nanodegree\n",
    "\n",
    "## Deep Learning\n",
    "\n",
    "## Project: Build a Traffic Sign Recognition Classifier\n",
    "\n",
    "In this notebook, a template is provided for you to implement your functionality in stages which is required to successfully complete this project. If additional code is required that cannot be included in the notebook, be sure that the Python code is successfully imported and included in your submission, if necessary. Sections that begin with **'Implementation'** in the header indicate where you should begin your implementation for your project. Note that some sections of implementation are optional, and will be marked with **'Optional'** in the header.\n",
    "\n",
    "In addition to implementing code, there will be questions that you must answer which relate to the project and your implementation. Each section where you will answer a question is preceded by a **'Question'** header. Carefully read each question and provide thorough answers in the following text boxes that begin with **'Answer:'**. Your project submission will be evaluated based on your answers to each of the questions and the implementation you provide.\n",
    "\n",
    ">**Note:** Code and Markdown cells can be executed using the **Shift + Enter** keyboard shortcut. In addition, Markdown cells can be edited by typically double-clicking the cell to enter edit mode."
   ]
  },
  {
   "cell_type": "markdown",
   "metadata": {},
   "source": [
    "---\n",
    "## Step 0: Load The Data"
   ]
  },
  {
   "cell_type": "code",
   "execution_count": 1,
   "metadata": {
    "collapsed": false
   },
   "outputs": [],
   "source": [
    "# Load pickled data\n",
    "import pickle\n",
    "\n",
    "# TODO: Fill this in based on where you saved the training and testing data\n",
    "\n",
    "training_file = 'traffic-signs-data/train.p'\n",
    "testing_file = 'traffic-signs-data/test.p'\n",
    "\n",
    "with open(training_file, mode='rb') as f:\n",
    "    train = pickle.load(f)\n",
    "with open(testing_file, mode='rb') as f:\n",
    "    test = pickle.load(f)\n",
    "    \n",
    "X_train, y_train = train['features'], train['labels']\n",
    "X_test, y_test = test['features'], test['labels']"
   ]
  },
  {
   "cell_type": "markdown",
   "metadata": {},
   "source": [
    "---\n",
    "\n",
    "## Step 1: Dataset Summary & Exploration\n",
    "\n",
    "The pickled data is a dictionary with 4 key/value pairs:\n",
    "\n",
    "- `'features'` is a 4D array containing raw pixel data of the traffic sign images, (num examples, width, height, channels).\n",
    "- `'labels'` is a 1D array containing the label/class id of the traffic sign. The file `signnames.csv` contains id -> name mappings for each id.\n",
    "- `'sizes'` is a list containing tuples, (width, height) representing the the original width and height the image.\n",
    "- `'coords'` is a list containing tuples, (x1, y1, x2, y2) representing coordinates of a bounding box around the sign in the image. **THESE COORDINATES ASSUME THE ORIGINAL IMAGE. THE PICKLED DATA CONTAINS RESIZED VERSIONS (32 by 32) OF THESE IMAGES**\n",
    "\n",
    "Complete the basic data summary below."
   ]
  },
  {
   "cell_type": "code",
   "execution_count": 2,
   "metadata": {
    "collapsed": false
   },
   "outputs": [
    {
     "name": "stdout",
     "output_type": "stream",
     "text": [
      "Number of training examples = 39209\n",
      "Number of testing examples = 12630\n",
      "Image data shape = (32, 32, 3)\n",
      "Number of classes = 43\n"
     ]
    }
   ],
   "source": [
    "### Replace each question mark with the appropriate value.\n",
    "\n",
    "# TODO: Number of training examples\n",
    "n_train = len(X_train)\n",
    "\n",
    "# TODO: Number of testing examples.\n",
    "n_test = len(X_test)\n",
    "\n",
    "# TODO: What's the shape of an traffic sign image?\n",
    "image_shape = X_train[0].shape\n",
    "\n",
    "# TODO: How many unique classes/labels there are in the dataset.\n",
    "# read signnames.csv into a dictionary\n",
    "import csv\n",
    "signnames_dict = {}\n",
    "with open('signnames.csv', mode='r') as infile:\n",
    "    reader = csv.reader(infile)\n",
    "    next(infile) # skip header row\n",
    "    signnames_dict = {rows[0]:rows[1] for rows in reader}\n",
    "    \n",
    "n_classes = len(signnames_dict)\n",
    "\n",
    "print(\"Number of training examples =\", n_train)\n",
    "print(\"Number of testing examples =\", n_test)\n",
    "print(\"Image data shape =\", image_shape)\n",
    "print(\"Number of classes =\", n_classes)"
   ]
  },
  {
   "cell_type": "markdown",
   "metadata": {},
   "source": [
    "Visualize the German Traffic Signs Dataset using the pickled file(s). This is open ended, suggestions include: plotting traffic sign images, plotting the count of each sign, etc.\n",
    "\n",
    "The [Matplotlib](http://matplotlib.org/) [examples](http://matplotlib.org/examples/index.html) and [gallery](http://matplotlib.org/gallery.html) pages are a great resource for doing visualizations in Python.\n",
    "\n",
    "**NOTE:** It's recommended you start with something simple first. If you wish to do more, come back to it after you've completed the rest of the sections."
   ]
  },
  {
   "cell_type": "code",
   "execution_count": 3,
   "metadata": {
    "collapsed": false
   },
   "outputs": [
    {
     "data": {
      "text/plain": [
       "<Container object of 43 artists>"
      ]
     },
     "execution_count": 3,
     "metadata": {},
     "output_type": "execute_result"
    },
    {
     "data": {
      "image/png": "[encoded data removed]",
      "text/plain": [
       "<matplotlib.figure.Figure at 0x108fa87f0>"
      ]
     },
     "metadata": {},
     "output_type": "display_data"
    }
   ],
   "source": [
    "### Data exploration visualization goes here.\n",
    "### Feel free to use as many code cells as needed.\n",
    "import matplotlib.pyplot as plt\n",
    "# Visualizations will be shown in the notebook.\n",
    "%matplotlib inline\n",
    "\n",
    "# calc count of each sign, plot \n",
    "y_count = [0] * n_classes\n",
    "for i in range(0, len(y_train)):\n",
    "    y_count[y_train[i]] += 1\n",
    "\n",
    "plt.bar(range(len(y_count)), y_count, 0.8, color=\"blue\")"
   ]
  },
  {
   "cell_type": "markdown",
   "metadata": {},
   "source": [
    "----\n",
    "\n",
    "## Step 2: Design and Test a Model Architecture\n",
    "\n",
    "Design and implement a deep learning model that learns to recognize traffic signs. Train and test your model on the [German Traffic Sign Dataset](http://benchmark.ini.rub.de/?section=gtsrb&subsection=dataset).\n",
    "\n",
    "There are various aspects to consider when thinking about this problem:\n",
    "\n",
    "- Neural network architecture\n",
    "- Play around preprocessing techniques (normalization, rgb to grayscale, etc)\n",
    "- Number of examples per label (some have more than others).\n",
    "- Generate fake data.\n",
    "\n",
    "Here is an example of a [published baseline model on this problem](http://yann.lecun.com/exdb/publis/pdf/sermanet-ijcnn-11.pdf). It's not required to be familiar with the approach used in the paper but, it's good practice to try to read papers like these.\n",
    "\n",
    "**NOTE:** The LeNet-5 implementation shown in the [classroom](https://classroom.udacity.com/nanodegrees/nd013/parts/fbf77062-5703-404e-b60c-95b78b2f3f9e/modules/6df7ae49-c61c-4bb2-a23e-6527e69209ec/lessons/601ae704-1035-4287-8b11-e2c2716217ad/concepts/d4aca031-508f-4e0b-b493-e7b706120f81) at the end of the CNN lesson is a solid starting point. You'll have to change the number of classes and possibly the preprocessing, but aside from that it's plug and play!"
   ]
  },
  {
   "cell_type": "markdown",
   "metadata": {},
   "source": [
    "### Implementation\n",
    "\n",
    "Use the code cell (or multiple code cells, if necessary) to implement the first step of your project. Once you have completed your implementation and are satisfied with the results, be sure to thoroughly answer the questions that follow."
   ]
  },
  {
   "cell_type": "code",
   "execution_count": 4,
   "metadata": {
    "collapsed": true
   },
   "outputs": [],
   "source": [
    "### Preprocess the data here.\n",
    "### Feel free to use as many code cells as needed.\n",
    "\n"
   ]
  },
  {
   "cell_type": "markdown",
   "metadata": {},
   "source": [
    "### Question 1 \n",
    "\n",
    "_Describe how you preprocessed the data. Why did you choose that technique?_"
   ]
  },
  {
   "cell_type": "markdown",
   "metadata": {},
   "source": [
    "**Answer:** \n",
    "\n",
    "I choose not to turn images into grayscale, and kept the 3 RGB dimensions."
   ]
  },
  {
   "cell_type": "code",
   "execution_count": 5,
   "metadata": {
    "collapsed": false
   },
   "outputs": [],
   "source": [
    "### Generate additional data (OPTIONAL!)\n",
    "### and split the data into training/validation/testing sets here.\n",
    "### Feel free to use as many code cells as needed.\n",
    "\n",
    "from sklearn.utils import shuffle\n",
    "from sklearn.model_selection import train_test_split\n",
    "\n",
    "X_train, X_validation, y_train, y_validation = train_test_split(X_train, y_train, test_size=0.25, random_state=0)\n",
    "\n"
   ]
  },
  {
   "cell_type": "markdown",
   "metadata": {},
   "source": [
    "### Question 2\n",
    "\n",
    "_Describe how you set up the training, validation and testing data for your model. **Optional**: If you generated additional data, how did you generate the data? Why did you generate the data? What are the differences in the new dataset (with generated data) from the original dataset?_"
   ]
  },
  {
   "cell_type": "markdown",
   "metadata": {},
   "source": [
    "**Answer:**\n",
    "\n",
    "use 25% of data as test set, use sklearn's train_test_split, which splits X_train and y_train at the same time."
   ]
  },
  {
   "cell_type": "code",
   "execution_count": 6,
   "metadata": {
    "collapsed": true
   },
   "outputs": [],
   "source": [
    "### Define your architecture here.\n",
    "### Feel free to use as many code cells as needed.\n",
    "\n",
    "# I decided to combine Question 2 and 3, see below."
   ]
  },
  {
   "cell_type": "markdown",
   "metadata": {},
   "source": [
    "### Question 3\n",
    "\n",
    "_What does your final architecture look like? (Type of model, layers, sizes, connectivity, etc.)  For reference on how to build a deep neural network using TensorFlow, see [Deep Neural Network in TensorFlow\n",
    "](https://classroom.udacity.com/nanodegrees/nd013/parts/fbf77062-5703-404e-b60c-95b78b2f3f9e/modules/6df7ae49-c61c-4bb2-a23e-6527e69209ec/lessons/b516a270-8600-4f93-a0a3-20dfeabe5da6/concepts/83a3a2a2-a9bd-4b7b-95b0-eb924ab14432) from the classroom._\n"
   ]
  },
  {
   "cell_type": "markdown",
   "metadata": {},
   "source": [
    "**Answer:**\n",
    "\n",
    "I am starting with the same architecture as LeNet-Lab:\n",
    "* input is 32x32x3, instead of 32x32x1\n",
    "* final output is 43, insted of 10"
   ]
  },
  {
   "cell_type": "code",
   "execution_count": 7,
   "metadata": {
    "collapsed": false
   },
   "outputs": [],
   "source": [
    "### Train your model here.\n",
    "### Feel free to use as many code cells as needed.\n",
    "\n",
    "import tensorflow as tf\n",
    "from tensorflow.contrib.layers import flatten\n",
    "\n",
    "EPOCHS = 60\n",
    "BATCH_SIZE = 128\n",
    "\n",
    "def LeNet(x, dropout):    \n",
    "    # Arguments used for tf.truncated_normal, randomly defines variables for the weights and biases for each layer\n",
    "    mu = 0\n",
    "    sigma = 0.1\n",
    "    \n",
    "    # SOLUTION: Layer 1: Convolutional. Input = 32x32x3. Output = 28x28x6.\n",
    "    conv1_W = tf.Variable(tf.truncated_normal(shape=(5, 5, 3, 6), mean = mu, stddev = sigma))\n",
    "    conv1_b = tf.Variable(tf.zeros(6))\n",
    "    conv1   = tf.nn.conv2d(x, conv1_W, strides=[1, 1, 1, 1], padding='VALID') + conv1_b\n",
    "\n",
    "    # SOLUTION: Activation.\n",
    "    conv1 = tf.nn.relu(conv1)\n",
    "\n",
    "    # SOLUTION: Pooling. Input = 28x28x6. Output = 14x14x6.\n",
    "    conv1 = tf.nn.max_pool(conv1, ksize=[1, 2, 2, 1], strides=[1, 2, 2, 1], padding='VALID')\n",
    "\n",
    "    # SOLUTION: Layer 2: Convolutional. Output = 10x10x16.\n",
    "    conv2_W = tf.Variable(tf.truncated_normal(shape=(5, 5, 6, 16), mean = mu, stddev = sigma))\n",
    "    conv2_b = tf.Variable(tf.zeros(16))\n",
    "    conv2   = tf.nn.conv2d(conv1, conv2_W, strides=[1, 1, 1, 1], padding='VALID') + conv2_b\n",
    "    \n",
    "    # SOLUTION: Activation.\n",
    "    conv2 = tf.nn.relu(conv2)\n",
    "\n",
    "    # SOLUTION: Pooling. Input = 10x10x16. Output = 5x5x16.\n",
    "    conv2 = tf.nn.max_pool(conv2, ksize=[1, 2, 2, 1], strides=[1, 2, 2, 1], padding='VALID')\n",
    "\n",
    "    # SOLUTION: Flatten. Input = 5x5x16. Output = 400.\n",
    "    fc0   = flatten(conv2)\n",
    "    \n",
    "    # SOLUTION: Layer 3: Fully Connected. Input = 400. Output = 120.\n",
    "    fc1_W = tf.Variable(tf.truncated_normal(shape=(400, 120), mean = mu, stddev = sigma))\n",
    "    fc1_b = tf.Variable(tf.zeros(120))\n",
    "    fc1   = tf.matmul(fc0, fc1_W) + fc1_b\n",
    "    \n",
    "    # SOLUTION: Activation.\n",
    "    fc1    = tf.nn.relu(fc1)\n",
    "\n",
    "    # SOLUTION: Layer 4: Fully Connected. Input = 120. Output = 84.\n",
    "    fc2_W  = tf.Variable(tf.truncated_normal(shape=(120, 84), mean = mu, stddev = sigma))\n",
    "    fc2_b  = tf.Variable(tf.zeros(84))\n",
    "    fc2    = tf.matmul(fc1, fc2_W) + fc2_b\n",
    "    \n",
    "    # SOLUTION: Activation.\n",
    "    fc2    = tf.nn.relu(fc2)\n",
    "\n",
    "    # SOLUTION: Layer 5: Fully Connected. Input = 84. Output = 43.\n",
    "    fc3_W  = tf.Variable(tf.truncated_normal(shape=(84, 43), mean = mu, stddev = sigma))\n",
    "    fc3_b  = tf.Variable(tf.zeros(43))\n",
    "    logits = tf.matmul(fc2, fc3_W) + fc3_b\n",
    "    \n",
    "    # Add dropout\n",
    "    logits_dropout = tf.nn.dropout(logits, dropout)\n",
    "    \n",
    "    return logits_dropout"
   ]
  },
  {
   "cell_type": "code",
   "execution_count": 8,
   "metadata": {
    "collapsed": true
   },
   "outputs": [],
   "source": [
    "x = tf.placeholder(tf.float32, (None, 32, 32, 3))\n",
    "y = tf.placeholder(tf.int32, (None))\n",
    "keep_prob = tf.placeholder(tf.float32)\n",
    "one_hot_y = tf.one_hot(y, 43)"
   ]
  },
  {
   "cell_type": "code",
   "execution_count": 9,
   "metadata": {
    "collapsed": false
   },
   "outputs": [],
   "source": [
    "rate = 0.001\n",
    "\n",
    "logits = LeNet(x, keep_prob)\n",
    "cross_entropy = tf.nn.softmax_cross_entropy_with_logits(logits, one_hot_y)\n",
    "loss_operation = tf.reduce_mean(cross_entropy)\n",
    "optimizer = tf.train.AdamOptimizer(learning_rate = rate)\n",
    "training_operation = optimizer.minimize(loss_operation)"
   ]
  },
  {
   "cell_type": "code",
   "execution_count": 10,
   "metadata": {
    "collapsed": true
   },
   "outputs": [],
   "source": [
    "correct_prediction = tf.equal(tf.argmax(logits, 1), tf.argmax(one_hot_y, 1))\n",
    "accuracy_operation = tf.reduce_mean(tf.cast(correct_prediction, tf.float32))\n",
    "saver = tf.train.Saver()\n",
    "\n",
    "def evaluate(X_data, y_data):\n",
    "    num_examples = len(X_data)\n",
    "    total_accuracy = 0\n",
    "    sess = tf.get_default_session()\n",
    "    for offset in range(0, num_examples, BATCH_SIZE):\n",
    "        batch_x, batch_y = X_data[offset:offset+BATCH_SIZE], y_data[offset:offset+BATCH_SIZE]\n",
    "        accuracy = sess.run(accuracy_operation, feed_dict={x: batch_x, \n",
    "                                                           y: batch_y,\n",
    "                                                           keep_prob: 1})\n",
    "        total_accuracy += (accuracy * len(batch_x))\n",
    "    return total_accuracy / num_examples\n"
   ]
  },
  {
   "cell_type": "code",
   "execution_count": 11,
   "metadata": {
    "collapsed": false
   },
   "outputs": [
    {
     "name": "stdout",
     "output_type": "stream",
     "text": [
      "Training...\n",
      "\n",
      "EPOCH 1: Validation Accuracy = 0.539\n",
      "EPOCH 2: Validation Accuracy = 0.747\n",
      "EPOCH 3: Validation Accuracy = 0.831\n",
      "EPOCH 4: Validation Accuracy = 0.883\n",
      "EPOCH 5: Validation Accuracy = 0.903\n",
      "EPOCH 6: Validation Accuracy = 0.919\n",
      "EPOCH 7: Validation Accuracy = 0.928\n",
      "EPOCH 8: Validation Accuracy = 0.935\n",
      "EPOCH 9: Validation Accuracy = 0.941\n",
      "EPOCH 10: Validation Accuracy = 0.947\n",
      "EPOCH 11: Validation Accuracy = 0.953\n",
      "EPOCH 12: Validation Accuracy = 0.946\n",
      "EPOCH 13: Validation Accuracy = 0.953\n",
      "EPOCH 14: Validation Accuracy = 0.955\n",
      "EPOCH 15: Validation Accuracy = 0.963\n",
      "EPOCH 16: Validation Accuracy = 0.965\n",
      "EPOCH 17: Validation Accuracy = 0.963\n",
      "EPOCH 18: Validation Accuracy = 0.959\n",
      "EPOCH 19: Validation Accuracy = 0.955\n",
      "EPOCH 20: Validation Accuracy = 0.971\n",
      "EPOCH 21: Validation Accuracy = 0.965\n",
      "EPOCH 22: Validation Accuracy = 0.967\n",
      "EPOCH 23: Validation Accuracy = 0.964\n",
      "EPOCH 24: Validation Accuracy = 0.966\n",
      "EPOCH 25: Validation Accuracy = 0.969\n",
      "EPOCH 26: Validation Accuracy = 0.966\n",
      "EPOCH 27: Validation Accuracy = 0.962\n",
      "EPOCH 28: Validation Accuracy = 0.964\n",
      "EPOCH 29: Validation Accuracy = 0.970\n",
      "EPOCH 30: Validation Accuracy = 0.966\n",
      "EPOCH 31: Validation Accuracy = 0.970\n",
      "EPOCH 32: Validation Accuracy = 0.974\n",
      "EPOCH 33: Validation Accuracy = 0.973\n",
      "EPOCH 34: Validation Accuracy = 0.967\n",
      "EPOCH 35: Validation Accuracy = 0.955\n",
      "EPOCH 36: Validation Accuracy = 0.973\n",
      "EPOCH 37: Validation Accuracy = 0.971\n",
      "EPOCH 38: Validation Accuracy = 0.974\n",
      "EPOCH 39: Validation Accuracy = 0.974\n",
      "EPOCH 40: Validation Accuracy = 0.972\n",
      "EPOCH 41: Validation Accuracy = 0.976\n",
      "EPOCH 42: Validation Accuracy = 0.973\n",
      "EPOCH 43: Validation Accuracy = 0.973\n",
      "EPOCH 44: Validation Accuracy = 0.975\n",
      "EPOCH 45: Validation Accuracy = 0.974\n",
      "EPOCH 46: Validation Accuracy = 0.977\n",
      "EPOCH 47: Validation Accuracy = 0.979\n",
      "EPOCH 48: Validation Accuracy = 0.975\n",
      "EPOCH 49: Validation Accuracy = 0.976\n",
      "EPOCH 50: Validation Accuracy = 0.975\n",
      "EPOCH 51: Validation Accuracy = 0.976\n",
      "EPOCH 52: Validation Accuracy = 0.972\n",
      "EPOCH 53: Validation Accuracy = 0.974\n",
      "EPOCH 54: Validation Accuracy = 0.981\n",
      "EPOCH 55: Validation Accuracy = 0.978\n",
      "EPOCH 56: Validation Accuracy = 0.974\n",
      "EPOCH 57: Validation Accuracy = 0.974\n",
      "EPOCH 58: Validation Accuracy = 0.978\n",
      "EPOCH 59: Validation Accuracy = 0.977\n",
      "EPOCH 60: Validation Accuracy = 0.976\n",
      "Test Accuracy = 0.896\n",
      "Model saved\n"
     ]
    }
   ],
   "source": [
    "with tf.Session() as sess:\n",
    "    sess.run(tf.global_variables_initializer())\n",
    "    num_examples = len(X_train)\n",
    "    \n",
    "    print(\"Training...\\n\")\n",
    "    X_train_original = X_train\n",
    "    y_train_original = y_train\n",
    "    \n",
    "    for i in range(EPOCHS):\n",
    "        X_train, y_train = shuffle(X_train, y_train)\n",
    "        \n",
    "        for offset in range(0, num_examples, BATCH_SIZE):\n",
    "            end = offset + BATCH_SIZE\n",
    "            batch_x, batch_y = X_train[offset:end], y_train[offset:end]\n",
    "            sess.run(training_operation, feed_dict={x: batch_x, \n",
    "                                                    y: batch_y, \n",
    "                                                    keep_prob: 0.8})\n",
    "            \n",
    "        validation_accuracy = evaluate(X_validation, y_validation)\n",
    "        print(\"EPOCH {}: \".format(i+1) + \"Validation Accuracy = {:.3f}\".format(validation_accuracy))\n",
    "        \n",
    "    test_accuracy = evaluate(X_test, y_test)\n",
    "    print(\"Test Accuracy = {:.3f}\".format(test_accuracy))\n",
    "\n",
    "    saver.save(sess, './lenet')\n",
    "    print(\"Model saved\")"
   ]
  },
  {
   "cell_type": "markdown",
   "metadata": {},
   "source": [
    "### Question 4\n",
    "\n",
    "_How did you train your model? (Type of optimizer, batch size, epochs, hyperparameters, etc.)_\n"
   ]
  },
  {
   "cell_type": "markdown",
   "metadata": {},
   "source": [
    "**Answer:**\n",
    "\n",
    "I used the same model from LeNET-Lab to start, and started with the same set of parameters.\n",
    "\n",
    "Please see question 5 answer on how I tuned model."
   ]
  },
  {
   "cell_type": "markdown",
   "metadata": {},
   "source": [
    "### Question 5\n",
    "\n",
    "\n",
    "_What approach did you take in coming up with a solution to this problem? It may have been a process of trial and error, in which case, outline the steps you took to get to the final solution and why you chose those steps. Perhaps your solution involved an already well known implementation or architecture. In this case, discuss why you think this is suitable for the current problem._"
   ]
  },
  {
   "cell_type": "markdown",
   "metadata": {},
   "source": [
    "**Answer:**\n",
    "\n",
    "1. With EPOCHS = 20 and BATCH_SIZE = 128, LEARNING RATE of 0.001 validation stabilizes at ~0.960.  At this point I have split my training and testing sets 80/20 using a simple shuffle.\n",
    "\n",
    "2. I used sklearn.model_selection.train_test_split, and increased EPOCHS to 30. I also tweaked filter to 3x3 with output of 30x30 in first convolutional layer. With this the validation accuracy went up to ~0.970\n",
    "\n",
    "3. I went back to 5x5 filter which gives LeNET-Lab default output of 28x28 -- validation accuracy stayed about the same.\n",
    "\n",
    "4. Moved sklearn.model_selection.train_test_split into EACH EPOCH loop, so each EPOCH will get a randomized train vs validation set.  Also moved num_examples into each EPOCH loop.  --- no visible improvement in validation accuracy, reverted code.\n",
    "\n",
    "5. Added dropout at 0.8, which improved both validation accuracy (~0.974) and test accuracy (~0.897)\n",
    "\n",
    "6. Bumped EPOCHS to 50, and resulting validation accuracy got close to 0.98, and Test Accuracy is between 0.91 to 0.92\n"
   ]
  },
  {
   "cell_type": "markdown",
   "metadata": {},
   "source": [
    "---\n",
    "\n",
    "## Step 3: Test a Model on New Images\n",
    "\n",
    "Take several pictures of traffic signs that you find on the web or around you (at least five), and run them through your classifier on your computer to produce example results. The classifier might not recognize some local signs but it could prove interesting nonetheless.\n",
    "\n",
    "You may find `signnames.csv` useful as it contains mappings from the class id (integer) to the actual sign name."
   ]
  },
  {
   "cell_type": "markdown",
   "metadata": {},
   "source": [
    "### Implementation\n",
    "\n",
    "Use the code cell (or multiple code cells, if necessary) to implement the first step of your project. Once you have completed your implementation and are satisfied with the results, be sure to thoroughly answer the questions that follow."
   ]
  },
  {
   "cell_type": "code",
   "execution_count": 12,
   "metadata": {
    "collapsed": false
   },
   "outputs": [
    {
     "name": "stdout",
     "output_type": "stream",
     "text": [
      "(32, 32, 3)\n",
      "(32, 32, 3)\n",
      "(32, 32, 3)\n",
      "(32, 32, 3)\n",
      "(32, 32, 3)\n",
      "(32, 32, 3)\n",
      "(32, 32, 3)\n",
      "<class 'numpy.ndarray'>\n",
      "(7, 32, 32, 3)\n"
     ]
    }
   ],
   "source": [
    "### Load the images and plot them here.\n",
    "### Feel free to use as many code cells as needed.\n",
    "\n",
    "# images are downloaded via Google image search\n",
    "\n",
    "from PIL import Image\n",
    "import matplotlib.image as mpimg\n",
    "import numpy as np\n",
    "import matplotlib.pyplot as plt\n",
    "# Visualizations will be shown in the notebook.\n",
    "%matplotlib inline\n",
    "\n",
    "def crop_center(im):\n",
    "    width, height = im.size   # Get dimensions\n",
    "\n",
    "    new_width = width\n",
    "    new_height = height\n",
    "    if width > height:\n",
    "        new_width = height\n",
    "    else:\n",
    "        new_height = width\n",
    "        \n",
    "    left = (width - new_width)//2\n",
    "    top = (height - new_height)//2\n",
    "    right = (width + new_width)//2\n",
    "    bottom = (height + new_height)//2\n",
    "\n",
    "    im = im.crop((left, top, right, bottom))\n",
    "    return im\n",
    "\n",
    "test_image_names=['./q6testdata/1_speedlimit30.jpeg',\n",
    "                  './q6testdata/13_yield.jpeg',\n",
    "                  './q6testdata/14_stop.jpeg',\n",
    "                  './q6testdata/14_stop2.jpeg',\n",
    "                  './q6testdata/17_noentry.jpeg',\n",
    "                  './q6testdata/25_roadwork.jpeg',\n",
    "                  './q6testdata/27_pedestrians.jpeg'\n",
    "                 ]\n",
    "\n",
    "def load_test_images():\n",
    "    ret = np.zeros((len(test_image_names), 32, 32, 3))\n",
    "    \n",
    "    for i in range(0, len(test_image_names)):    \n",
    "        image = Image.open(test_image_names[i])\n",
    "\n",
    "        # plot original image\n",
    "#         plt.figure(i*3)\n",
    "#         plt.imshow(image)\n",
    "\n",
    "        # crop and plot\n",
    "        image = crop_center(image)\n",
    "#         plt.figure(i*3+1)\n",
    "#         plt.imshow(image)\n",
    "\n",
    "        # get a 32x32 thumbnail, and plot\n",
    "        image.thumbnail((32, 32), Image.ANTIALIAS)\n",
    "#         plt.figure(i*3+2)\n",
    "#         plt.imshow(image)\n",
    "\n",
    "        # convert PIL image to RGB int array \n",
    "        rgb_array = mpimg.pil_to_array(image)\n",
    "        print(rgb_array.shape)\n",
    "        ret[i, :, :, :] = rgb_array\n",
    "\n",
    "    return ret\n",
    "\n",
    "new_test_images = load_test_images()\n",
    "print(type(new_test_images))\n",
    "print(new_test_images.shape)\n",
    "    "
   ]
  },
  {
   "cell_type": "markdown",
   "metadata": {},
   "source": [
    "### Question 6\n",
    "\n",
    "_Choose five candidate images of traffic signs and provide them in the report. Are there any particular qualities of the image(s) that might make classification difficult? It could be helpful to plot the images in the notebook._\n",
    "\n"
   ]
  },
  {
   "cell_type": "markdown",
   "metadata": {},
   "source": [
    "**Answer:**\n",
    "\n",
    "Signs have colored background, and a Stop sign is tilted, and No Entry sign is very dark with bright background, Road Work sign is on the ground and tilted and has a watermark."
   ]
  },
  {
   "cell_type": "code",
   "execution_count": 13,
   "metadata": {
    "collapsed": false,
    "scrolled": true
   },
   "outputs": [
    {
     "name": "stdout",
     "output_type": "stream",
     "text": [
      "Test Accuracy = 0.896\n",
      "Softmax [[  0.00000000e+00   1.00000000e+00   0.00000000e+00   0.00000000e+00\n",
      "    0.00000000e+00   0.00000000e+00   0.00000000e+00   0.00000000e+00\n",
      "    0.00000000e+00   0.00000000e+00   0.00000000e+00   0.00000000e+00\n",
      "    0.00000000e+00   0.00000000e+00   0.00000000e+00   0.00000000e+00\n",
      "    0.00000000e+00   0.00000000e+00   0.00000000e+00   0.00000000e+00\n",
      "    0.00000000e+00   0.00000000e+00   0.00000000e+00   0.00000000e+00\n",
      "    0.00000000e+00   0.00000000e+00   0.00000000e+00   0.00000000e+00\n",
      "    0.00000000e+00   0.00000000e+00   0.00000000e+00   0.00000000e+00\n",
      "    0.00000000e+00   0.00000000e+00   0.00000000e+00   0.00000000e+00\n",
      "    0.00000000e+00   0.00000000e+00   0.00000000e+00   0.00000000e+00\n",
      "    0.00000000e+00   0.00000000e+00   0.00000000e+00]\n",
      " [  0.00000000e+00   0.00000000e+00   0.00000000e+00   0.00000000e+00\n",
      "    0.00000000e+00   0.00000000e+00   0.00000000e+00   0.00000000e+00\n",
      "    0.00000000e+00   0.00000000e+00   0.00000000e+00   0.00000000e+00\n",
      "    0.00000000e+00   1.00000000e+00   0.00000000e+00   0.00000000e+00\n",
      "    0.00000000e+00   0.00000000e+00   0.00000000e+00   0.00000000e+00\n",
      "    0.00000000e+00   0.00000000e+00   0.00000000e+00   0.00000000e+00\n",
      "    0.00000000e+00   0.00000000e+00   0.00000000e+00   0.00000000e+00\n",
      "    0.00000000e+00   0.00000000e+00   0.00000000e+00   0.00000000e+00\n",
      "    0.00000000e+00   0.00000000e+00   0.00000000e+00   0.00000000e+00\n",
      "    0.00000000e+00   0.00000000e+00   0.00000000e+00   0.00000000e+00\n",
      "    0.00000000e+00   0.00000000e+00   0.00000000e+00]\n",
      " [  4.03641313e-35   2.83470412e-25   2.43197979e-31   3.15041091e-31\n",
      "    3.52741289e-34   8.19444826e-33   6.91407159e-24   1.33027121e-27\n",
      "    9.45139806e-37   0.00000000e+00   8.41381839e-37   3.45822415e-26\n",
      "    0.00000000e+00   2.94601078e-30   1.00000000e+00   1.41436683e-33\n",
      "    0.00000000e+00   1.12312514e-31   1.28983234e-31   0.00000000e+00\n",
      "    7.70517328e-32   0.00000000e+00   1.23193438e-34   0.00000000e+00\n",
      "    5.55801337e-37   3.75572887e-26   6.65219107e-24   0.00000000e+00\n",
      "    0.00000000e+00   6.89580680e-27   0.00000000e+00   0.00000000e+00\n",
      "    7.11864538e-33   0.00000000e+00   0.00000000e+00   0.00000000e+00\n",
      "    0.00000000e+00   5.81116545e-37   7.09512221e-38   0.00000000e+00\n",
      "    0.00000000e+00   0.00000000e+00   0.00000000e+00]\n",
      " [  2.37978400e-27   1.09542874e-20   1.43309704e-20   2.99133369e-28\n",
      "    9.13887365e-20   3.45635934e-29   4.12218921e-25   2.95748922e-27\n",
      "    3.70010263e-31   8.73415008e-29   1.75101236e-26   4.76265842e-23\n",
      "    3.58053110e-18   1.65398506e-18   1.00000000e+00   1.71905725e-20\n",
      "    1.38747154e-32   8.43656951e-23   4.50053319e-23   3.81715463e-28\n",
      "    8.53637687e-15   9.55415853e-31   2.59031276e-22   4.98898334e-28\n",
      "    3.56591552e-20   1.14488182e-19   2.78861630e-18   2.41494312e-30\n",
      "    1.97823839e-27   2.01070275e-19   1.10477219e-24   2.69417594e-38\n",
      "    4.85551902e-23   2.73521284e-32   4.05210535e-34   3.57367496e-29\n",
      "    2.88445249e-35   5.61158769e-24   5.82219456e-29   1.36262729e-21\n",
      "    4.11146933e-37   1.00080039e-32   3.50703755e-31]\n",
      " [  5.13382126e-27   1.27297949e-06   2.80046490e-14   5.29605780e-20\n",
      "    1.19632389e-28   8.60812189e-22   1.15627477e-28   1.66813301e-19\n",
      "    4.91606259e-19   3.91725719e-09   1.03862385e-08   1.59970716e-06\n",
      "    1.81099863e-17   3.28682517e-15   1.78288731e-10   6.07279661e-19\n",
      "    1.85445500e-24   9.99976873e-01   1.00731414e-08   1.17603346e-15\n",
      "    7.47206558e-18   6.51809017e-20   4.43394782e-18   2.67352751e-10\n",
      "    6.97637230e-27   2.81575807e-09   1.80692551e-19   3.23879023e-25\n",
      "    8.94047445e-17   4.88859231e-11   1.61208092e-18   2.02248648e-05\n",
      "    3.98908934e-24   3.07357982e-18   3.72133937e-21   1.55458468e-21\n",
      "    3.11398382e-21   2.81330215e-22   1.55421764e-09   2.19374994e-14\n",
      "    9.29968721e-14   2.28624438e-25   2.24040079e-13]\n",
      " [  8.36995607e-18   2.48929882e-05   3.99885559e-03   4.72577760e-13\n",
      "    2.83588811e-31   1.30556458e-14   0.00000000e+00   3.27981822e-03\n",
      "    7.07923456e-15   1.85899746e-24   6.05942938e-19   6.04507496e-17\n",
      "    4.29652007e-25   8.94956765e-12   0.00000000e+00   9.75439142e-32\n",
      "    0.00000000e+00   1.84541223e-22   5.82100904e-19   6.72712442e-38\n",
      "    2.23223806e-33   4.58351893e-20   7.63176705e-22   5.25738686e-16\n",
      "    1.62798334e-26   9.92688417e-01   1.04396282e-21   1.65813218e-24\n",
      "    5.82005727e-18   1.84679445e-20   2.65894246e-24   8.05788204e-06\n",
      "    1.03054971e-28   2.07181305e-32   1.43035098e-28   4.47318783e-30\n",
      "    7.41450954e-36   0.00000000e+00   3.26085868e-19   0.00000000e+00\n",
      "    1.62593814e-30   0.00000000e+00   2.07399657e-16]\n",
      " [  1.70249956e-28   6.15816242e-09   1.56455185e-18   4.98384478e-21\n",
      "    3.78638369e-18   7.53227771e-18   4.65256524e-36   7.38455071e-21\n",
      "    6.38433537e-22   7.77198299e-15   1.96793147e-29   8.32699304e-38\n",
      "    3.46767878e-35   3.06630846e-32   8.20150237e-28   9.96466885e-29\n",
      "    0.00000000e+00   5.76481879e-22   2.24550988e-38   0.00000000e+00\n",
      "    5.58468053e-38   0.00000000e+00   4.01996878e-28   0.00000000e+00\n",
      "    5.77462391e-26   1.47479796e-26   9.11201333e-39   0.00000000e+00\n",
      "    1.65532634e-21   3.32621232e-32   5.56841604e-35   9.35472610e-22\n",
      "    1.02462951e-35   4.69370518e-15   4.50835374e-29   1.22756779e-17\n",
      "    1.74691620e-25   3.82511985e-07   5.34202557e-16   1.38262958e-12\n",
      "    9.99999642e-01   0.00000000e+00   9.35043310e-17]]\n",
      "TopK TopKV2(values=array([[  1.00000000e+00,   0.00000000e+00,   0.00000000e+00,\n",
      "          0.00000000e+00,   0.00000000e+00],\n",
      "       [  1.00000000e+00,   0.00000000e+00,   0.00000000e+00,\n",
      "          0.00000000e+00,   0.00000000e+00],\n",
      "       [  1.00000000e+00,   6.91407159e-24,   6.65219107e-24,\n",
      "          2.83470412e-25,   3.75572887e-26],\n",
      "       [  1.00000000e+00,   8.53637687e-15,   3.58053110e-18,\n",
      "          2.78861630e-18,   1.65398506e-18],\n",
      "       [  9.99976873e-01,   2.02248648e-05,   1.59970716e-06,\n",
      "          1.27297949e-06,   1.03862385e-08],\n",
      "       [  9.92688417e-01,   3.99885559e-03,   3.27981822e-03,\n",
      "          2.48929882e-05,   8.05788204e-06],\n",
      "       [  9.99999642e-01,   3.82511985e-07,   6.15816242e-09,\n",
      "          1.38262958e-12,   7.77198299e-15]], dtype=float32), indices=array([[ 1,  0,  2,  3,  4],\n",
      "       [13,  0,  1,  2,  3],\n",
      "       [14,  6, 26,  1, 25],\n",
      "       [14, 20, 12, 26, 13],\n",
      "       [17, 31, 11,  1, 10],\n",
      "       [25,  2,  7,  1, 31],\n",
      "       [40, 37,  1, 39,  9]], dtype=int32))\n"
     ]
    }
   ],
   "source": [
    "### Run the predictions here.\n",
    "### Feel free to use as many code cells as needed.\n",
    "\n",
    "with tf.Session() as sess:\n",
    "    saver.restore(sess, tf.train.latest_checkpoint('.'))\n",
    "    \n",
    "    # calculate test accuracy to see if we loaded model correctly, result should be same as above\n",
    "    test_accuracy = evaluate(X_test, y_test)\n",
    "    print(\"Test Accuracy = {:.3f}\".format(test_accuracy))\n",
    "    \n",
    "    output = sess.run(logits, feed_dict={x: new_test_images, keep_prob: 1})\n",
    "    softmax_func = tf.nn.softmax(output)\n",
    "    output = sess.run(softmax_func)\n",
    "    print(\"Softmax {}\".format(output))\n",
    "    \n",
    "    predicts = sess.run(tf.nn.top_k(output, k=5, sorted=True))\n",
    "    print(\"TopK {}\".format(predicts))\n"
   ]
  },
  {
   "cell_type": "markdown",
   "metadata": {},
   "source": [
    "### Question 7\n",
    "\n",
    "_Is your model able to perform equally well on captured pictures when compared to testing on the dataset? The simplest way to do this check the accuracy of the predictions. For example, if the model predicted 1 out of 5 signs correctly, it's 20% accurate._\n",
    "\n",
    "_**NOTE:** You could check the accuracy manually by using `signnames.csv` (same directory). This file has a mapping from the class id (0-42) to the corresponding sign name. So, you could take the class id the model outputs, lookup the name in `signnames.csv` and see if it matches the sign from the image._\n"
   ]
  },
  {
   "cell_type": "markdown",
   "metadata": {},
   "source": [
    "**Answer:**"
   ]
  },
  {
   "cell_type": "code",
   "execution_count": 14,
   "metadata": {
    "collapsed": true
   },
   "outputs": [],
   "source": [
    "### Visualize the softmax probabilities here.\n",
    "### Feel free to use as many code cells as needed.\n",
    "\n",
    "# My model did okay for 7 images found on Google Image.  \n",
    "# The accuracy is 6 out 7, or 86%. The miss is for \n",
    "# Pedestrians sign, which is blue sign on blue background.\n",
    "# Also the sign has both pedestrians and bike in the sign.\n"
   ]
  },
  {
   "cell_type": "markdown",
   "metadata": {},
   "source": [
    "### Question 8\n",
    "\n",
    "*Use the model's softmax probabilities to visualize the **certainty** of its predictions, [`tf.nn.top_k`](https://www.tensorflow.org/versions/r0.12/api_docs/python/nn.html#top_k) could prove helpful here. Which predictions is the model certain of? Uncertain? If the model was incorrect in its initial prediction, does the correct prediction appear in the top k? (k should be 5 at most)*\n",
    "\n",
    "`tf.nn.top_k` will return the values and indices (class ids) of the top k predictions. So if k=3, for each sign, it'll return the 3 largest probabilities (out of a possible 43) and the correspoding class ids.\n",
    "\n",
    "Take this numpy array as an example:\n",
    "\n",
    "```\n",
    "# (5, 6) array\n",
    "a = np.array([[ 0.24879643,  0.07032244,  0.12641572,  0.34763842,  0.07893497,\n",
    "         0.12789202],\n",
    "       [ 0.28086119,  0.27569815,  0.08594638,  0.0178669 ,  0.18063401,\n",
    "         0.15899337],\n",
    "       [ 0.26076848,  0.23664738,  0.08020603,  0.07001922,  0.1134371 ,\n",
    "         0.23892179],\n",
    "       [ 0.11943333,  0.29198961,  0.02605103,  0.26234032,  0.1351348 ,\n",
    "         0.16505091],\n",
    "       [ 0.09561176,  0.34396535,  0.0643941 ,  0.16240774,  0.24206137,\n",
    "         0.09155967]])\n",
    "```\n",
    "\n",
    "Running it through `sess.run(tf.nn.top_k(tf.constant(a), k=3))` produces:\n",
    "\n",
    "```\n",
    "TopKV2(values=array([[ 0.34763842,  0.24879643,  0.12789202],\n",
    "       [ 0.28086119,  0.27569815,  0.18063401],\n",
    "       [ 0.26076848,  0.23892179,  0.23664738],\n",
    "       [ 0.29198961,  0.26234032,  0.16505091],\n",
    "       [ 0.34396535,  0.24206137,  0.16240774]]), indices=array([[3, 0, 5],\n",
    "       [0, 1, 4],\n",
    "       [0, 5, 1],\n",
    "       [1, 3, 5],\n",
    "       [1, 4, 3]], dtype=int32))\n",
    "```\n",
    "\n",
    "Looking just at the first row we get `[ 0.34763842,  0.24879643,  0.12789202]`, you can confirm these are the 3 largest probabilities in `a`. You'll also notice `[3, 0, 5]` are the corresponding indices."
   ]
  },
  {
   "cell_type": "markdown",
   "metadata": {},
   "source": [
    "**Answer:**\n",
    "\n",
    "See above output in Question 6.  Certainties are extremely high, even for the last test image which was not recognized.  Most predictions are at or near 100%.\n",
    "\n",
    "\n",
    "/*\n",
    "TopK TopKV2(values=array([\n",
    "       [  1.00000000e+00,   0.00000000e+00,   0.00000000e+00,\n",
    "          0.00000000e+00,   0.00000000e+00],\n",
    "       [  1.00000000e+00,   0.00000000e+00,   0.00000000e+00,\n",
    "          0.00000000e+00,   0.00000000e+00],\n",
    "       [  1.00000000e+00,   6.91407159e-24,   6.65219107e-24,\n",
    "          2.83470412e-25,   3.75572887e-26],\n",
    "       [  1.00000000e+00,   8.53637687e-15,   3.58053110e-18,\n",
    "          2.78861630e-18,   1.65398506e-18],\n",
    "       [  9.99976873e-01,   2.02248648e-05,   1.59970716e-06,\n",
    "          1.27297949e-06,   1.03862385e-08],\n",
    "       [  9.92688417e-01,   3.99885559e-03,   3.27981822e-03,\n",
    "          2.48929882e-05,   8.05788204e-06],\n",
    "       [  9.99999642e-01,   3.82511985e-07,   6.15816242e-09,\n",
    "          1.38262958e-12,   7.77198299e-15]], dtype=float32), \n",
    "indices=array([\n",
    "       [ 1,  0,  2,  3,  4],\n",
    "       [13,  0,  1,  2,  3],\n",
    "       [14,  6, 26,  1, 25],\n",
    "       [14, 20, 12, 26, 13],\n",
    "       [17, 31, 11,  1, 10],\n",
    "       [25,  2,  7,  1, 31],\n",
    "       [40, 37,  1, 39,  9]], dtype=int32))\n",
    "*/\n",
    "\n"
   ]
  },
  {
   "cell_type": "markdown",
   "metadata": {},
   "source": [
    "> **Note**: Once you have completed all of the code implementations and successfully answered each question above, you may finalize your work by exporting the iPython Notebook as an HTML document. You can do this by using the menu above and navigating to  \\n\",\n",
    "    \"**File -> Download as -> HTML (.html)**. Include the finished document along with this notebook as your submission."
   ]
  }
 ],
 "metadata": {
  "anaconda-cloud": {},
  "kernelspec": {
   "display_name": "Python 3",
   "language": "python",
   "name": "python3"
  },
  "language_info": {
   "codemirror_mode": {
    "name": "ipython",
    "version": 3
   },
   "file_extension": ".py",
   "mimetype": "text/x-python",
   "name": "python",
   "nbconvert_exporter": "python",
   "pygments_lexer": "ipython3",
   "version": "3.5.2"
  },
  "widgets": {
   "state": {},
   "version": "1.1.2"
  }
 },
 "nbformat": 4,
 "nbformat_minor": 1
}
